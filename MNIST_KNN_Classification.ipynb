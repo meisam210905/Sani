{
  "nbformat": 4,
  "nbformat_minor": 0,
  "metadata": {
    "colab": {
      "provenance": [],
      "authorship_tag": "ABX9TyOfYi9KPYNCEAoXLQkvVZgJ",
      "include_colab_link": true
    },
    "kernelspec": {
      "name": "python3",
      "display_name": "Python 3"
    },
    "language_info": {
      "name": "python"
    },
    "accelerator": "TPU",
    "gpuClass": "standard"
  },
  "cells": [
    {
      "cell_type": "markdown",
      "metadata": {
        "id": "view-in-github",
        "colab_type": "text"
      },
      "source": [
        "<a href=\"https://colab.research.google.com/github/meisam210905/Sani/blob/main/MNIST_KNN_Classification.ipynb\" target=\"_parent\"><img src=\"https://colab.research.google.com/assets/colab-badge.svg\" alt=\"Open In Colab\"/></a>"
      ]
    },
    {
      "cell_type": "code",
      "execution_count": 1,
      "metadata": {
        "id": "irZt2eMubpXI"
      },
      "outputs": [],
      "source": [
        "import numpy as np\n",
        "import pandas as pd\n",
        "import matplotlib.pyplot as plt\n",
        "from sklearn import datasets"
      ]
    },
    {
      "cell_type": "code",
      "source": [
        "data = datasets.load_digits()"
      ],
      "metadata": {
        "id": "NAXwrm6AcAW7"
      },
      "execution_count": 2,
      "outputs": []
    },
    {
      "cell_type": "code",
      "source": [
        "X = data.images.reshape((len(data.images), -1))\n",
        "len(X)"
      ],
      "metadata": {
        "colab": {
          "base_uri": "https://localhost:8080/"
        },
        "id": "bsMG_41BcVKx",
        "outputId": "8ad3899a-c52a-43e7-f155-1652001165e2"
      },
      "execution_count": 3,
      "outputs": [
        {
          "output_type": "execute_result",
          "data": {
            "text/plain": [
              "1797"
            ]
          },
          "metadata": {},
          "execution_count": 3
        }
      ]
    },
    {
      "cell_type": "code",
      "source": [
        "y = data.target\n",
        "len(y)"
      ],
      "metadata": {
        "colab": {
          "base_uri": "https://localhost:8080/"
        },
        "id": "yPFMsoNbd1lz",
        "outputId": "3ec2b0e8-f348-4a8a-dd42-5362fa2a41a1"
      },
      "execution_count": 4,
      "outputs": [
        {
          "output_type": "execute_result",
          "data": {
            "text/plain": [
              "1797"
            ]
          },
          "metadata": {},
          "execution_count": 4
        }
      ]
    },
    {
      "cell_type": "code",
      "source": [
        "from sklearn.neighbors import KNeighborsClassifier"
      ],
      "metadata": {
        "id": "xjWJeqefcwxM"
      },
      "execution_count": 5,
      "outputs": []
    },
    {
      "cell_type": "code",
      "source": [
        "from sklearn import metrics"
      ],
      "metadata": {
        "id": "3HDwaaatg8z4"
      },
      "execution_count": 15,
      "outputs": []
    },
    {
      "cell_type": "code",
      "source": [
        "knn_clf = KNeighborsClassifier(n_neighbors=5)\n",
        "knn_clf.fit(X[:1000], y[:1000])\n",
        "p = knn_clf.predict(X[1000:]) \n",
        "e = y[1000:]\n",
        "print(metrics.classification_report(e, p))"
      ],
      "metadata": {
        "colab": {
          "base_uri": "https://localhost:8080/"
        },
        "id": "seyqX8pZhDCf",
        "outputId": "f5259a52-ab45-4c67-cb1e-5daf8486287b"
      },
      "execution_count": 31,
      "outputs": [
        {
          "output_type": "stream",
          "name": "stdout",
          "text": [
            "              precision    recall  f1-score   support\n",
            "\n",
            "           0       0.99      1.00      0.99        79\n",
            "           1       0.95      0.97      0.96        80\n",
            "           2       0.97      0.94      0.95        77\n",
            "           3       0.91      0.90      0.90        79\n",
            "           4       1.00      0.95      0.98        83\n",
            "           5       0.94      0.99      0.96        82\n",
            "           6       0.99      1.00      0.99        80\n",
            "           7       0.94      1.00      0.97        80\n",
            "           8       0.95      0.91      0.93        76\n",
            "           9       0.94      0.91      0.92        81\n",
            "\n",
            "    accuracy                           0.96       797\n",
            "   macro avg       0.96      0.96      0.96       797\n",
            "weighted avg       0.96      0.96      0.96       797\n",
            "\n"
          ]
        }
      ]
    },
    {
      "cell_type": "code",
      "source": [
        "print(metrics.confusion_matrix(e, p))"
      ],
      "metadata": {
        "colab": {
          "base_uri": "https://localhost:8080/"
        },
        "id": "JcA7AlzihR4C",
        "outputId": "040ce382-d47d-4bb9-90d9-5f8d3cd768bb"
      },
      "execution_count": 17,
      "outputs": [
        {
          "output_type": "stream",
          "name": "stdout",
          "text": [
            "[[79  0  0  0  0  0  0  0  0  0]\n",
            " [ 0 78  0  0  0  0  0  0  1  1]\n",
            " [ 1  0 72  4  0  0  0  0  0  0]\n",
            " [ 0  0  1 71  0  2  0  3  2  0]\n",
            " [ 0  0  0  0 79  0  0  1  0  3]\n",
            " [ 0  0  0  0  0 81  1  0  0  0]\n",
            " [ 0  0  0  0  0  0 80  0  0  0]\n",
            " [ 0  0  0  0  0  0  0 80  0  0]\n",
            " [ 0  4  1  0  0  0  0  1 69  1]\n",
            " [ 0  0  0  3  0  3  0  0  1 74]]\n"
          ]
        }
      ]
    }
  ]
}