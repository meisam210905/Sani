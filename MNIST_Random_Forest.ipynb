{
  "nbformat": 4,
  "nbformat_minor": 0,
  "metadata": {
    "colab": {
      "provenance": [],
      "authorship_tag": "ABX9TyN48iNuOsz4qNYQWmOZUlLQ",
      "include_colab_link": true
    },
    "kernelspec": {
      "name": "python3",
      "display_name": "Python 3"
    },
    "language_info": {
      "name": "python"
    }
  },
  "cells": [
    {
      "cell_type": "markdown",
      "metadata": {
        "id": "view-in-github",
        "colab_type": "text"
      },
      "source": [
        "<a href=\"https://colab.research.google.com/github/meisam210905/Sani/blob/main/MNIST_Random_Forest.ipynb\" target=\"_parent\"><img src=\"https://colab.research.google.com/assets/colab-badge.svg\" alt=\"Open In Colab\"/></a>"
      ]
    },
    {
      "cell_type": "code",
      "execution_count": 1,
      "metadata": {
        "id": "xbgAVW11PklJ"
      },
      "outputs": [],
      "source": [
        "import numpy as np\n",
        "import pandas as pd\n",
        "import matplotlib.pyplot as plt\n",
        "from sklearn import datasets"
      ]
    },
    {
      "cell_type": "code",
      "source": [
        "data = datasets.load_digits()"
      ],
      "metadata": {
        "id": "-2BiuUBQP6lI"
      },
      "execution_count": 2,
      "outputs": []
    },
    {
      "cell_type": "code",
      "source": [
        "X = data.images.reshape((len(data.images), -1))"
      ],
      "metadata": {
        "id": "RiaxPrH7P_GH"
      },
      "execution_count": 3,
      "outputs": []
    },
    {
      "cell_type": "code",
      "source": [
        "y = data.target"
      ],
      "metadata": {
        "id": "pIUi-bxQQCsQ"
      },
      "execution_count": 4,
      "outputs": []
    },
    {
      "cell_type": "code",
      "source": [
        "from sklearn.ensemble import RandomForestClassifier"
      ],
      "metadata": {
        "id": "y62YHJC8Qhnu"
      },
      "execution_count": 5,
      "outputs": []
    },
    {
      "cell_type": "code",
      "source": [
        "rfc_clf = RandomForestClassifier()\n",
        "rfc_clf.fit(X[:1000], y[:1000])"
      ],
      "metadata": {
        "colab": {
          "base_uri": "https://localhost:8080/"
        },
        "id": "3RxR6Z9VQ442",
        "outputId": "8489953a-b874-41b1-a512-2552788a2d4b"
      },
      "execution_count": 6,
      "outputs": [
        {
          "output_type": "execute_result",
          "data": {
            "text/plain": [
              "RandomForestClassifier()"
            ]
          },
          "metadata": {},
          "execution_count": 6
        }
      ]
    },
    {
      "cell_type": "code",
      "source": [
        "from sklearn import metrics"
      ],
      "metadata": {
        "id": "6LzohXs7RaCJ"
      },
      "execution_count": 7,
      "outputs": []
    },
    {
      "cell_type": "code",
      "source": [
        "p = rfc_clf.predict(X[1000:]) \n",
        "e = y[1000:]\n",
        "print(metrics.classification_report(e, p))"
      ],
      "metadata": {
        "colab": {
          "base_uri": "https://localhost:8080/"
        },
        "id": "YXV3bE3tRa6m",
        "outputId": "aced0862-1af4-4018-d426-c938323e08ff"
      },
      "execution_count": 9,
      "outputs": [
        {
          "output_type": "stream",
          "name": "stdout",
          "text": [
            "              precision    recall  f1-score   support\n",
            "\n",
            "           0       0.97      0.99      0.98        79\n",
            "           1       0.96      0.88      0.92        80\n",
            "           2       1.00      0.91      0.95        77\n",
            "           3       0.89      0.82      0.86        79\n",
            "           4       0.98      0.95      0.96        83\n",
            "           5       0.87      0.99      0.93        82\n",
            "           6       0.99      1.00      0.99        80\n",
            "           7       0.92      0.99      0.95        80\n",
            "           8       0.92      0.88      0.90        76\n",
            "           9       0.84      0.90      0.87        81\n",
            "\n",
            "    accuracy                           0.93       797\n",
            "   macro avg       0.93      0.93      0.93       797\n",
            "weighted avg       0.93      0.93      0.93       797\n",
            "\n"
          ]
        }
      ]
    },
    {
      "cell_type": "code",
      "source": [
        "print(metrics.confusion_matrix(e, p))"
      ],
      "metadata": {
        "colab": {
          "base_uri": "https://localhost:8080/"
        },
        "id": "tw9_08ssSaxh",
        "outputId": "94974888-aa74-46bc-df71-7ec696adfbd9"
      },
      "execution_count": 10,
      "outputs": [
        {
          "output_type": "stream",
          "name": "stdout",
          "text": [
            "[[78  0  0  0  1  0  0  0  0  0]\n",
            " [ 0 70  0  1  0  1  0  0  0  8]\n",
            " [ 1  0 70  4  0  0  0  0  0  2]\n",
            " [ 0  1  0 65  0  4  0  4  4  1]\n",
            " [ 0  0  0  0 79  0  0  2  0  2]\n",
            " [ 0  0  0  0  0 81  1  0  0  0]\n",
            " [ 0  0  0  0  0  0 80  0  0  0]\n",
            " [ 0  0  0  0  0  0  0 79  1  0]\n",
            " [ 0  2  0  0  1  4  0  1 67  1]\n",
            " [ 1  0  0  3  0  3  0  0  1 73]]\n"
          ]
        }
      ]
    }
  ]
}