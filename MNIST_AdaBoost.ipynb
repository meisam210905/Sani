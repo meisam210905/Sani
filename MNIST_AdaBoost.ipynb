{
  "nbformat": 4,
  "nbformat_minor": 0,
  "metadata": {
    "colab": {
      "provenance": [],
      "authorship_tag": "ABX9TyNJlqeQFygO66mig4HK/doO",
      "include_colab_link": true
    },
    "kernelspec": {
      "name": "python3",
      "display_name": "Python 3"
    },
    "language_info": {
      "name": "python"
    },
    "accelerator": "TPU",
    "gpuClass": "standard"
  },
  "cells": [
    {
      "cell_type": "markdown",
      "metadata": {
        "id": "view-in-github",
        "colab_type": "text"
      },
      "source": [
        "<a href=\"https://colab.research.google.com/github/meisam210905/Sani/blob/main/MNIST_AdaBoost.ipynb\" target=\"_parent\"><img src=\"https://colab.research.google.com/assets/colab-badge.svg\" alt=\"Open In Colab\"/></a>"
      ]
    },
    {
      "cell_type": "code",
      "execution_count": 20,
      "metadata": {
        "id": "FbyQdotzPzDI"
      },
      "outputs": [],
      "source": [
        "import numpy as np\n",
        "import pandas as pd\n",
        "import matplotlib.pyplot as plt\n",
        "from sklearn import datasets\n",
        "from sklearn.svm import SVC"
      ]
    },
    {
      "cell_type": "code",
      "source": [
        "data = datasets.load_digits()"
      ],
      "metadata": {
        "id": "pwB3SdcyP4n0"
      },
      "execution_count": 21,
      "outputs": []
    },
    {
      "cell_type": "code",
      "source": [
        "X = data.images.reshape((len(data.images), -1))"
      ],
      "metadata": {
        "id": "m1hrs5uTP79Y"
      },
      "execution_count": 22,
      "outputs": []
    },
    {
      "cell_type": "code",
      "source": [
        "y = data.target"
      ],
      "metadata": {
        "id": "VE7ItAZqP_uD"
      },
      "execution_count": 23,
      "outputs": []
    },
    {
      "cell_type": "code",
      "source": [
        "from sklearn.ensemble import AdaBoostClassifier"
      ],
      "metadata": {
        "id": "7noH7vFMQOSf"
      },
      "execution_count": 24,
      "outputs": []
    },
    {
      "cell_type": "code",
      "source": [
        "ada_clf = AdaBoostClassifier()\n",
        "ada_clf.fit(X[:1000], y[:1000])"
      ],
      "metadata": {
        "colab": {
          "base_uri": "https://localhost:8080/"
        },
        "id": "qg21zQB8QgiN",
        "outputId": "1aa5fdfd-56b1-41f7-ca83-65b67fa5542d"
      },
      "execution_count": 27,
      "outputs": [
        {
          "output_type": "execute_result",
          "data": {
            "text/plain": [
              "AdaBoostClassifier()"
            ]
          },
          "metadata": {},
          "execution_count": 27
        }
      ]
    },
    {
      "cell_type": "code",
      "source": [
        "from sklearn import metrics"
      ],
      "metadata": {
        "id": "brdgb8PDRFrz"
      },
      "execution_count": 28,
      "outputs": []
    },
    {
      "cell_type": "code",
      "source": [
        "p = ada_clf.predict(X[1000:]) \n",
        "e = y[1000:]\n",
        "print(metrics.classification_report(e, p))"
      ],
      "metadata": {
        "colab": {
          "base_uri": "https://localhost:8080/"
        },
        "id": "cGijF0-ORKQI",
        "outputId": "e4a3328e-b74c-4645-bc87-17c1f7b825be"
      },
      "execution_count": 29,
      "outputs": [
        {
          "output_type": "stream",
          "name": "stdout",
          "text": [
            "              precision    recall  f1-score   support\n",
            "\n",
            "           0       0.89      0.96      0.93        79\n",
            "           1       0.00      0.00      0.00        80\n",
            "           2       0.00      0.00      0.00        77\n",
            "           3       0.13      0.97      0.22        79\n",
            "           4       0.00      0.00      0.00        83\n",
            "           5       0.00      0.00      0.00        82\n",
            "           6       0.47      0.34      0.39        80\n",
            "           7       0.00      0.00      0.00        80\n",
            "           8       0.00      0.00      0.00        76\n",
            "           9       0.76      0.38      0.51        81\n",
            "\n",
            "    accuracy                           0.26       797\n",
            "   macro avg       0.22      0.27      0.20       797\n",
            "weighted avg       0.22      0.26      0.20       797\n",
            "\n"
          ]
        },
        {
          "output_type": "stream",
          "name": "stderr",
          "text": [
            "/usr/local/lib/python3.7/dist-packages/sklearn/metrics/_classification.py:1318: UndefinedMetricWarning: Precision and F-score are ill-defined and being set to 0.0 in labels with no predicted samples. Use `zero_division` parameter to control this behavior.\n",
            "  _warn_prf(average, modifier, msg_start, len(result))\n",
            "/usr/local/lib/python3.7/dist-packages/sklearn/metrics/_classification.py:1318: UndefinedMetricWarning: Precision and F-score are ill-defined and being set to 0.0 in labels with no predicted samples. Use `zero_division` parameter to control this behavior.\n",
            "  _warn_prf(average, modifier, msg_start, len(result))\n",
            "/usr/local/lib/python3.7/dist-packages/sklearn/metrics/_classification.py:1318: UndefinedMetricWarning: Precision and F-score are ill-defined and being set to 0.0 in labels with no predicted samples. Use `zero_division` parameter to control this behavior.\n",
            "  _warn_prf(average, modifier, msg_start, len(result))\n"
          ]
        }
      ]
    },
    {
      "cell_type": "code",
      "source": [
        "ada_clf = AdaBoostClassifier(base_estimator=SVC(probability=True, kernel='rbf'), n_estimators=100)\n",
        "ada_clf.fit(X[:1000], y[:1000])"
      ],
      "metadata": {
        "colab": {
          "base_uri": "https://localhost:8080/"
        },
        "id": "_nPPVb9qTx1a",
        "outputId": "9ae0a153-2c91-4024-c83e-4646eb8b528b"
      },
      "execution_count": 30,
      "outputs": [
        {
          "output_type": "execute_result",
          "data": {
            "text/plain": [
              "AdaBoostClassifier(base_estimator=SVC(probability=True), n_estimators=100)"
            ]
          },
          "metadata": {},
          "execution_count": 30
        }
      ]
    },
    {
      "cell_type": "code",
      "source": [
        "p = ada_clf.predict(X[1000:]) \n",
        "e = y[1000:]\n",
        "print(metrics.classification_report(e, p))"
      ],
      "metadata": {
        "colab": {
          "base_uri": "https://localhost:8080/"
        },
        "id": "RHPGn0mfW3-5",
        "outputId": "b04d2988-e707-4b51-f445-8c7ce59e9161"
      },
      "execution_count": 31,
      "outputs": [
        {
          "output_type": "stream",
          "name": "stdout",
          "text": [
            "              precision    recall  f1-score   support\n",
            "\n",
            "           0       0.99      0.97      0.98        79\n",
            "           1       0.80      0.97      0.88        80\n",
            "           2       0.96      0.91      0.93        77\n",
            "           3       0.80      0.86      0.83        79\n",
            "           4       0.92      0.98      0.95        83\n",
            "           5       0.96      0.95      0.96        82\n",
            "           6       0.99      0.91      0.95        80\n",
            "           7       0.99      0.88      0.93        80\n",
            "           8       0.88      0.92      0.90        76\n",
            "           9       0.96      0.81      0.88        81\n",
            "\n",
            "    accuracy                           0.92       797\n",
            "   macro avg       0.92      0.92      0.92       797\n",
            "weighted avg       0.92      0.92      0.92       797\n",
            "\n"
          ]
        }
      ]
    }
  ]
}